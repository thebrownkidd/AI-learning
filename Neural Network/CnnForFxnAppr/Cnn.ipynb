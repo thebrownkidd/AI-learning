{
 "cells": [
  {
   "cell_type": "code",
   "execution_count": 1,
   "metadata": {},
   "outputs": [],
   "source": [
    "import torch\n",
    "import pandas as pd\n",
    "import numpy as np\n",
    "import random\n",
    "import torch.nn as nn\n",
    "from torch.utils.data import DataLoader\n",
    "from torch.utils.data import Dataset\n",
    "from matplotlib import pyplot as plt\n"
   ]
  },
  {
   "cell_type": "code",
   "execution_count": 2,
   "metadata": {},
   "outputs": [],
   "source": [
    "class cnn(nn.Module):\n",
    "    def __init__(self):\n",
    "        super().__init__()\n",
    "        self.act = torch.nn.Tanh()\n",
    "        self.linear1 = nn.Conv2d(4 , 1, kernel_size = (2,1), stride = 1, padding = 0)\n",
    "        # self.linear2 = torch.nn.Linear(6,6)\n",
    "        # self.linear3 = torch.nn.Linear(6,6) \n",
    "        # self.linear4 = torch.nn.Linear(6,1)\n",
    "    def forward(self, X):\n",
    "        X = self.linear1(X)\n",
    "        # X = self.act(X)\n",
    "        # X = self.linear2(X)\n",
    "        # X = self.act(X)\n",
    "        # X = self.linear3(X)\n",
    "        # X = self.act(X)\n",
    "        # X = self.linear4(X)\n",
    "        return X"
   ]
  },
  {
   "cell_type": "code",
   "execution_count": 3,
   "metadata": {},
   "outputs": [
    {
     "name": "stdout",
     "output_type": "stream",
     "text": [
      "cnn(\n",
      "  (act): Tanh()\n",
      "  (linear1): Conv2d(4, 1, kernel_size=(2, 1), stride=(1, 1))\n",
      ")\n"
     ]
    }
   ],
   "source": [
    "model = cnn()\n",
    "print(model)"
   ]
  },
  {
   "cell_type": "code",
   "execution_count": 4,
   "metadata": {},
   "outputs": [],
   "source": [
    "X = []\n",
    "Y = []\n",
    "for i in range(100000):\n",
    "    x = np.random.randint(0,400,(4,1))\n",
    "    x = np.tile(x,(1,4))\n",
    "    X.append(x)\n",
    "    y = [x[i]-x[0] for i in range(len(x))]\n",
    "    Y.append(y)\n",
    "\n",
    "# print(X.iloc[0])\n",
    "# print(Y.iloc[0])"
   ]
  },
  {
   "cell_type": "code",
   "execution_count": 5,
   "metadata": {},
   "outputs": [
    {
     "name": "stdout",
     "output_type": "stream",
     "text": [
      "Input shape: torch.Size([1, 1, 4, 4])\n",
      "Output shape: torch.Size([1, 4])\n",
      "Output: tensor([[ 0.1109,  0.0362,  0.0928, -0.0124]], grad_fn=<AddmmBackward0>)\n"
     ]
    }
   ],
   "source": [
    "import torch\n",
    "import torch.nn as nn\n",
    "import torch.nn.functional as F\n",
    "\n",
    "# Define the CNN model\n",
    "class SimpleCNN(nn.Module):\n",
    "    def __init__(self, output_size):\n",
    "        super(SimpleCNN, self).__init__()\n",
    "        self.conv1 = nn.Conv2d(1, 8, kernel_size=3, stride=1, padding=1)  # Output: 8x4x4\n",
    "        self.conv2 = nn.Conv2d(8, 16, kernel_size=3, stride=1, padding=1)  # Output: 16x4x4\n",
    "        self.fc = nn.Linear(16 * 4 * 4, output_size)  # Fully connected layer to desired output size\n",
    "\n",
    "    def forward(self, x):\n",
    "        x = F.relu(self.conv1(x))  # Apply first convolution and activation\n",
    "        x = F.relu(self.conv2(x))  # Apply second convolution and activation\n",
    "        x = x.view(x.size(0), -1)  # Flatten\n",
    "        x = self.fc(x)  # Fully connected layer\n",
    "        return x\n",
    "\n",
    "# Example: Instantiate the model for a 1x4 output\n",
    "output_size = 4  # Change to 3 for 1x3 output\n",
    "model = SimpleCNN(output_size)\n",
    "\n",
    "# Example input: A single 4x4 image with 1 channel\n",
    "input_tensor = torch.tensor([[[[1, 2, 3, 4],\n",
    "                                [1, 2, 3, 4],\n",
    "                                [1, 2, 3, 4],\n",
    "                                [1, 2, 3, 4]]]], dtype=torch.float32)  # Shape: [1, 1, 4, 4]\n",
    "\n",
    "# Forward pass\n",
    "output = model(input_tensor)\n",
    "print(f\"Input shape: {input_tensor.shape}\")\n",
    "print(f\"Output shape: {output.shape}\")\n",
    "print(f\"Output: {output}\")\n"
   ]
  },
  {
   "cell_type": "code",
   "execution_count": 6,
   "metadata": {},
   "outputs": [],
   "source": [
    "class MyDataset(Dataset):\n",
    "    def __init__(self, X, Y):\n",
    "        super().__init__()\n",
    "        self.X = torch.tensor(X, dtype=torch.float32).unsqueeze(1)\n",
    "        self.Y = (torch.tensor(Y, dtype = torch.float32)).unsqueeze(2)\n",
    "        # self.Y = (torch.tensor(Y, dtype = torch.float32).long()).unsqueeze(2).unsqueeze(1)\n",
    "        # self.Y = (torch.tensor(Y, dtype = torch.float32).long())\n",
    "        \n",
    "    def __len__(self):\n",
    "        return len(self.X)\n",
    "    \n",
    "    def __getitem__(self, idx):\n",
    "        return self.X[idx], self.Y[idx]"
   ]
  },
  {
   "cell_type": "code",
   "execution_count": 7,
   "metadata": {},
   "outputs": [
    {
     "name": "stderr",
     "output_type": "stream",
     "text": [
      "C:\\Users\\arpit\\AppData\\Local\\Temp\\ipykernel_16872\\901273907.py:4: UserWarning: Creating a tensor from a list of numpy.ndarrays is extremely slow. Please consider converting the list to a single numpy.ndarray with numpy.array() before converting to a tensor. (Triggered internally at  ..\\torch\\csrc\\utils\\tensor_new.cpp:204.)\n",
      "  self.X = torch.tensor(X, dtype=torch.float32).unsqueeze(1)\n"
     ]
    }
   ],
   "source": [
    "Data = MyDataset( X,Y)\n",
    "# print(Data.X)\n",
    "dataset = DataLoader(Data, batch_size= 10000, shuffle=True)\n",
    "\n",
    "loss = nn.MSELoss(reduction='sum')\n",
    "opt = torch.optim.Adam(model.parameters(), lr=0.001)\n"
   ]
  },
  {
   "cell_type": "code",
   "execution_count": 8,
   "metadata": {},
   "outputs": [],
   "source": [
    "def train_loop(dataloader, model, loss_fn, optimizer, batch_size, ls):\n",
    "    size = len(dataloader.dataset)\n",
    "    # Set the model to training mode - important for batch normalization and dropout layers\n",
    "    # Unnecessary in this situation but added for best practices\n",
    "    model.train()\n",
    "    # ls = []\n",
    "    for batch, (X, Y) in enumerate(dataloader):\n",
    "        # Compute prediction and loss\n",
    "        pred = model(X)\n",
    "        # print(pred)\n",
    "        # print(Y)\n",
    "        loss = loss_fn(pred, Y)\n",
    "        # break\n",
    "        # Backpropagation\n",
    "        loss.backward()\n",
    "        optimizer.step()\n",
    "        optimizer.zero_grad()\n",
    "        ls.append(loss.item())\n",
    "        plt.plot(ls)\n",
    "        plt.savefig(\"dam.png\")\n",
    "        \n",
    "\n",
    "        if batch % 100 == 0:\n",
    "            loss, current = loss.item(), batch * batch_size + len(X)\n",
    "            print(f\"loss: {loss:>7f}  [{current:>5d}/{size:>5d}]\")\n",
    "        return ls"
   ]
  },
  {
   "cell_type": "code",
   "execution_count": 9,
   "metadata": {},
   "outputs": [],
   "source": [
    "# import torch\n",
    "# import torch.nn as nn\n",
    "\n",
    "# # Example data\n",
    "# batch_size, x, units, y = 1000, 1, 3, 1\n",
    "# pred = torch.randn(batch_size, x, units, y, requires_grad=True)  # Example predictions\n",
    "# Y = torch.randn(batch_size, x, units, y)  # Example targets\n",
    "\n",
    "# # Define loss function and optimizer\n",
    "# loss_fn = nn.MSELoss()\n",
    "# optimizer = torch.optim.Adam([pred], lr=0.01)\n",
    "\n",
    "# # Compute loss for the entire batch\n",
    "\n",
    "# loss += loss_fn(pred, Y)\n",
    "# print(f\"Loss: {loss.item()}\")\n",
    "\n",
    "# # Backward pass and optimization\n",
    "# loss.backward()\n",
    "# optimizer.step()\n",
    "# optimizer.zero_grad()\n"
   ]
  },
  {
   "cell_type": "code",
   "execution_count": 10,
   "metadata": {},
   "outputs": [],
   "source": [
    "# for batch, (X, Y) in enumerate(dataset):\n",
    "#         # Compute prediction and loss\n",
    "#         print(X.shape)\n",
    "#         pred = model(X)\n",
    "#         batch,x,units,y = pred.shape\n",
    "#         print(batch, units)\n",
    "#         for i in range(batch):\n",
    "#                 for j in range(units):\n",
    "#                         print(pred[i][0][j][0])\n",
    "#         break\n",
    "#         # print(pred)\n",
    "#         # print(Y)"
   ]
  },
  {
   "cell_type": "code",
   "execution_count": null,
   "metadata": {},
   "outputs": [
    {
     "name": "stdout",
     "output_type": "stream",
     "text": [
      "Epoch: 1\n",
      "------------------\n"
     ]
    },
    {
     "name": "stderr",
     "output_type": "stream",
     "text": [
      "c:\\Users\\arpit\\AppData\\Local\\Programs\\Python\\Python310\\lib\\site-packages\\torch\\nn\\modules\\loss.py:530: UserWarning: Using a target size (torch.Size([10000, 4, 1, 4])) that is different to the input size (torch.Size([10000, 4])). This will likely lead to incorrect results due to broadcasting. Please ensure they have the same size.\n",
      "  return F.mse_loss(input, target, reduction=self.reduction)\n"
     ]
    }
   ],
   "source": [
    "ls = []\n",
    "for t in range(500):\n",
    "    print(f\"Epoch: {t+1}\\n------------------\")\n",
    "    ls  = train_loop(dataset,model,loss,opt,1000,ls)\n",
    "    # with torch.no_grad():\n",
    "        # y = pd.DataFrame(Parabola_model(X_tensor),columns=['y'])\n",
    "    # print(type(y))\n",
    "        # df = pd.concat([X,y],axis=1)\n",
    "        # df.plot(kind='scatter',x='X',y='y',s = 1.5)\n",
    "        # plt.savefig('C:/Projects/AI-learning/Py-torch proto/training.jpg')"
   ]
  },
  {
   "cell_type": "code",
   "execution_count": null,
   "metadata": {},
   "outputs": [
    {
     "data": {
      "text/plain": [
       "tensor([[[ 22.8439],\n",
       "         [ 26.9780],\n",
       "         [121.3525]]], grad_fn=<SqueezeBackward1>)"
      ]
     },
     "execution_count": 9,
     "metadata": {},
     "output_type": "execute_result"
    }
   ],
   "source": [
    "model(torch.tensor([[4,5,7,66],[4,4,4,4]], dtype = torch.float32).unsqueeze(2))"
   ]
  }
 ],
 "metadata": {
  "kernelspec": {
   "display_name": "Python 3",
   "language": "python",
   "name": "python3"
  },
  "language_info": {
   "codemirror_mode": {
    "name": "ipython",
    "version": 3
   },
   "file_extension": ".py",
   "mimetype": "text/x-python",
   "name": "python",
   "nbconvert_exporter": "python",
   "pygments_lexer": "ipython3",
   "version": "3.10.7"
  }
 },
 "nbformat": 4,
 "nbformat_minor": 2
}
