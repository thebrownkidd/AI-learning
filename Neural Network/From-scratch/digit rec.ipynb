{
 "cells": [
  {
   "cell_type": "code",
   "execution_count": 5,
   "metadata": {},
   "outputs": [],
   "source": [
    "import torch\n",
    "from torch import nn\n",
    "import pandas as pd"
   ]
  },
  {
   "cell_type": "code",
   "execution_count": 10,
   "metadata": {},
   "outputs": [
    {
     "name": "stdout",
     "output_type": "stream",
     "text": [
      "       label  pixel0  pixel1  pixel2  pixel3  pixel4  pixel5  pixel6  pixel7  \\\n",
      "0          1       0       0       0       0       0       0       0       0   \n",
      "1          0       0       0       0       0       0       0       0       0   \n",
      "2          1       0       0       0       0       0       0       0       0   \n",
      "3          4       0       0       0       0       0       0       0       0   \n",
      "4          0       0       0       0       0       0       0       0       0   \n",
      "...      ...     ...     ...     ...     ...     ...     ...     ...     ...   \n",
      "41995      0       0       0       0       0       0       0       0       0   \n",
      "41996      1       0       0       0       0       0       0       0       0   \n",
      "41997      7       0       0       0       0       0       0       0       0   \n",
      "41998      6       0       0       0       0       0       0       0       0   \n",
      "41999      9       0       0       0       0       0       0       0       0   \n",
      "\n",
      "       pixel8  ...  pixel774  pixel775  pixel776  pixel777  pixel778  \\\n",
      "0           0  ...         0         0         0         0         0   \n",
      "1           0  ...         0         0         0         0         0   \n",
      "2           0  ...         0         0         0         0         0   \n",
      "3           0  ...         0         0         0         0         0   \n",
      "4           0  ...         0         0         0         0         0   \n",
      "...       ...  ...       ...       ...       ...       ...       ...   \n",
      "41995       0  ...         0         0         0         0         0   \n",
      "41996       0  ...         0         0         0         0         0   \n",
      "41997       0  ...         0         0         0         0         0   \n",
      "41998       0  ...         0         0         0         0         0   \n",
      "41999       0  ...         0         0         0         0         0   \n",
      "\n",
      "       pixel779  pixel780  pixel781  pixel782  pixel783  \n",
      "0             0         0         0         0         0  \n",
      "1             0         0         0         0         0  \n",
      "2             0         0         0         0         0  \n",
      "3             0         0         0         0         0  \n",
      "4             0         0         0         0         0  \n",
      "...         ...       ...       ...       ...       ...  \n",
      "41995         0         0         0         0         0  \n",
      "41996         0         0         0         0         0  \n",
      "41997         0         0         0         0         0  \n",
      "41998         0         0         0         0         0  \n",
      "41999         0         0         0         0         0  \n",
      "\n",
      "[42000 rows x 785 columns]\n"
     ]
    }
   ],
   "source": [
    "data = pd.read_csv('C:/Projects/AI-learning/Neural Network/From-scratch/train.csv')\n",
    "print(data)"
   ]
  },
  {
   "cell_type": "code",
   "execution_count": 17,
   "metadata": {},
   "outputs": [
    {
     "name": "stdout",
     "output_type": "stream",
     "text": [
      "tensor([5, 1, 7, 4, 8, 9, 5, 7, 4, 7, 2, 2, 1, 4, 8, 8, 6, 2, 2, 2, 6, 7, 8, 1,\n",
      "        8, 8, 1, 9, 0, 7, 9, 6, 6, 8, 2, 3, 5, 4, 5, 4, 1, 3, 7, 1, 5, 0, 0, 8,\n",
      "        5, 3, 7, 6, 8, 2, 8, 4, 2, 3, 6, 2, 8, 7, 2, 4, 7, 3, 4, 4, 5, 4, 8, 3,\n",
      "        1, 5, 1, 0, 2, 2, 2, 9, 5, 9, 6, 6, 9, 4, 1, 7, 2, 2, 0, 7, 0, 6, 8, 0,\n",
      "        5, 7, 4])\n"
     ]
    }
   ],
   "source": [
    "train_df = data.iloc[:1000,]\n",
    "val_df = data.iloc[1001:1100,]\n",
    "X_train = torch.tensor(train_df.iloc[:,1:].values)\n",
    "Y_train = torch.tensor(train_df.iloc[:,0].values)\n",
    "\n",
    "X_val = torch.tensor(val_df.iloc[:,1:].values)\n",
    "Y_val = torch.tensor(val_df.iloc[:,0].values)\n",
    "\n",
    "print(Y_val)"
   ]
  },
  {
   "cell_type": "code",
   "execution_count": 19,
   "metadata": {},
   "outputs": [
    {
     "name": "stdout",
     "output_type": "stream",
     "text": [
      "tensor([0., 0., 0., 0., 0., 0., 0., 0., 0., 0.], requires_grad=True)\n"
     ]
    }
   ],
   "source": [
    "W1 = torch.tensor([[0.0 for i in range(785)] for i in range(10)], requires_grad=True)\n",
    "b1 = torch.tensor([0.0 for i in range(10)], requires_grad=True)\n",
    "print(b1)"
   ]
  }
 ],
 "metadata": {
  "kernelspec": {
   "display_name": "Python 3",
   "language": "python",
   "name": "python3"
  },
  "language_info": {
   "codemirror_mode": {
    "name": "ipython",
    "version": 3
   },
   "file_extension": ".py",
   "mimetype": "text/x-python",
   "name": "python",
   "nbconvert_exporter": "python",
   "pygments_lexer": "ipython3",
   "version": "3.10.7"
  }
 },
 "nbformat": 4,
 "nbformat_minor": 2
}
